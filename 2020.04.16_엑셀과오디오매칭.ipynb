{
 "cells": [
  {
   "cell_type": "code",
   "execution_count": 209,
   "metadata": {},
   "outputs": [
    {
     "data": {
      "text/plain": [
       "['C:\\\\Users\\\\fyj\\\\Desktop\\\\test\\\\20200416.csv']"
      ]
     },
     "execution_count": 209,
     "metadata": {},
     "output_type": "execute_result"
    }
   ],
   "source": [
    "import os\n",
    "import pandas as pd\n",
    "import glob\n",
    "import xlrd\n",
    "\n",
    "dir_path=os.path.expanduser('~')\n",
    "file_path = dir_path+os.sep+\"Desktop\"+os.sep+\"test\"\n",
    "audio_dir = file_path+os.sep+\"audio\"\n",
    "file_list = glob.glob(file_path+os.sep+\"*\")\n",
    "file_name = [file for file in file_list if file.endswith(\".csv\")]\n",
    "file_name"
   ]
  },
  {
   "cell_type": "code",
   "execution_count": 210,
   "metadata": {
    "scrolled": false
   },
   "outputs": [
    {
     "data": {
      "text/html": [
       "<div>\n",
       "<style scoped>\n",
       "    .dataframe tbody tr th:only-of-type {\n",
       "        vertical-align: middle;\n",
       "    }\n",
       "\n",
       "    .dataframe tbody tr th {\n",
       "        vertical-align: top;\n",
       "    }\n",
       "\n",
       "    .dataframe thead th {\n",
       "        text-align: right;\n",
       "    }\n",
       "</style>\n",
       "<table border=\"1\" class=\"dataframe\">\n",
       "  <thead>\n",
       "    <tr style=\"text-align: right;\">\n",
       "      <th></th>\n",
       "      <th>Unnamed: 0</th>\n",
       "      <th>음성파일</th>\n",
       "      <th>쓰기</th>\n",
       "      <th>시스템 인식</th>\n",
       "    </tr>\n",
       "  </thead>\n",
       "  <tbody>\n",
       "    <tr>\n",
       "      <th>0</th>\n",
       "      <td>NaN</td>\n",
       "      <td>101224_S724E00.wav</td>\n",
       "      <td>1</td>\n",
       "      <td>네</td>\n",
       "    </tr>\n",
       "    <tr>\n",
       "      <th>1</th>\n",
       "      <td>NaN</td>\n",
       "      <td>140306_S725E00.wav</td>\n",
       "      <td>1</td>\n",
       "      <td>네</td>\n",
       "    </tr>\n",
       "    <tr>\n",
       "      <th>2</th>\n",
       "      <td>NaN</td>\n",
       "      <td>140307_S726E00.wav</td>\n",
       "      <td>1</td>\n",
       "      <td>네</td>\n",
       "    </tr>\n",
       "    <tr>\n",
       "      <th>3</th>\n",
       "      <td>NaN</td>\n",
       "      <td>140309_S727E00.wav</td>\n",
       "      <td>1</td>\n",
       "      <td>오후</td>\n",
       "    </tr>\n",
       "    <tr>\n",
       "      <th>4</th>\n",
       "      <td>NaN</td>\n",
       "      <td>140310_S728E00.wav</td>\n",
       "      <td>1</td>\n",
       "      <td>예</td>\n",
       "    </tr>\n",
       "  </tbody>\n",
       "</table>\n",
       "</div>"
      ],
      "text/plain": [
       "   Unnamed: 0                음성파일  쓰기 시스템 인식\n",
       "0         NaN  101224_S724E00.wav   1      네\n",
       "1         NaN  140306_S725E00.wav   1      네\n",
       "2         NaN  140307_S726E00.wav   1      네\n",
       "3         NaN  140309_S727E00.wav   1     오후\n",
       "4         NaN  140310_S728E00.wav   1      예"
      ]
     },
     "execution_count": 210,
     "metadata": {},
     "output_type": "execute_result"
    }
   ],
   "source": [
    "df=pd.read_csv(file_name[0], encoding='cp949')\n",
    "df.head()"
   ]
  },
  {
   "cell_type": "code",
   "execution_count": 211,
   "metadata": {
    "scrolled": true
   },
   "outputs": [
    {
     "data": {
      "text/html": [
       "<div>\n",
       "<style scoped>\n",
       "    .dataframe tbody tr th:only-of-type {\n",
       "        vertical-align: middle;\n",
       "    }\n",
       "\n",
       "    .dataframe tbody tr th {\n",
       "        vertical-align: top;\n",
       "    }\n",
       "\n",
       "    .dataframe thead th {\n",
       "        text-align: right;\n",
       "    }\n",
       "</style>\n",
       "<table border=\"1\" class=\"dataframe\">\n",
       "  <thead>\n",
       "    <tr style=\"text-align: right;\">\n",
       "      <th></th>\n",
       "      <th>음성파일</th>\n",
       "      <th>쓰기</th>\n",
       "      <th>시스템 인식</th>\n",
       "    </tr>\n",
       "  </thead>\n",
       "  <tbody>\n",
       "    <tr>\n",
       "      <th>0</th>\n",
       "      <td>101224_S724E00.wav</td>\n",
       "      <td>1</td>\n",
       "      <td>네</td>\n",
       "    </tr>\n",
       "    <tr>\n",
       "      <th>1</th>\n",
       "      <td>140306_S725E00.wav</td>\n",
       "      <td>1</td>\n",
       "      <td>네</td>\n",
       "    </tr>\n",
       "    <tr>\n",
       "      <th>2</th>\n",
       "      <td>140307_S726E00.wav</td>\n",
       "      <td>1</td>\n",
       "      <td>네</td>\n",
       "    </tr>\n",
       "    <tr>\n",
       "      <th>3</th>\n",
       "      <td>140309_S727E00.wav</td>\n",
       "      <td>1</td>\n",
       "      <td>오후</td>\n",
       "    </tr>\n",
       "    <tr>\n",
       "      <th>4</th>\n",
       "      <td>140310_S728E00.wav</td>\n",
       "      <td>1</td>\n",
       "      <td>예</td>\n",
       "    </tr>\n",
       "  </tbody>\n",
       "</table>\n",
       "</div>"
      ],
      "text/plain": [
       "                 음성파일  쓰기 시스템 인식\n",
       "0  101224_S724E00.wav   1      네\n",
       "1  140306_S725E00.wav   1      네\n",
       "2  140307_S726E00.wav   1      네\n",
       "3  140309_S727E00.wav   1     오후\n",
       "4  140310_S728E00.wav   1      예"
      ]
     },
     "execution_count": 211,
     "metadata": {},
     "output_type": "execute_result"
    }
   ],
   "source": [
    "temp_df=df[[df.columns[len(df.columns)-3], df.columns[len(df.columns)-2], df.columns[len(df.columns)-1]]]\n",
    "temp_df.head()"
   ]
  },
  {
   "cell_type": "code",
   "execution_count": 212,
   "metadata": {},
   "outputs": [
    {
     "data": {
      "text/plain": [
       "'음성파일'"
      ]
     },
     "execution_count": 212,
     "metadata": {},
     "output_type": "execute_result"
    }
   ],
   "source": [
    "temp_index = temp_df.columns[0]\n",
    "temp_index"
   ]
  },
  {
   "cell_type": "code",
   "execution_count": 213,
   "metadata": {},
   "outputs": [
    {
     "data": {
      "text/plain": [
       "'101224_S724E00.wav'"
      ]
     },
     "execution_count": 213,
     "metadata": {},
     "output_type": "execute_result"
    }
   ],
   "source": [
    "temp_df[temp_index][0]"
   ]
  },
  {
   "cell_type": "code",
   "execution_count": 214,
   "metadata": {},
   "outputs": [
    {
     "data": {
      "text/plain": [
       "18"
      ]
     },
     "execution_count": 214,
     "metadata": {},
     "output_type": "execute_result"
    }
   ],
   "source": [
    "len(temp_df[temp_index][0])"
   ]
  },
  {
   "cell_type": "code",
   "execution_count": 215,
   "metadata": {
    "scrolled": true
   },
   "outputs": [
    {
     "name": "stderr",
     "output_type": "stream",
     "text": [
      "c:\\python36\\lib\\site-packages\\ipykernel_launcher.py:1: SettingWithCopyWarning: \n",
      "A value is trying to be set on a copy of a slice from a DataFrame.\n",
      "Try using .loc[row_indexer,col_indexer] = value instead\n",
      "\n",
      "See the caveats in the documentation: https://pandas.pydata.org/pandas-docs/stable/user_guide/indexing.html#returning-a-view-versus-a-copy\n",
      "  \"\"\"Entry point for launching an IPython kernel.\n"
     ]
    },
    {
     "data": {
      "text/plain": [
       "0       101224_S724E00.wav\n",
       "1       140306_S725E00.wav\n",
       "2       140307_S726E00.wav\n",
       "3       140309_S727E00.wav\n",
       "4       140310_S728E00.wav\n",
       "               ...        \n",
       "1075    163506_S799E00.wav\n",
       "1076    163507_S800E00.wav\n",
       "1077    163511_S801E00.wav\n",
       "1078    163513_S802E00.wav\n",
       "1079    163517_S803E00.wav\n",
       "Name: 음성파일, Length: 1080, dtype: object"
      ]
     },
     "execution_count": 215,
     "metadata": {},
     "output_type": "execute_result"
    }
   ],
   "source": [
    "temp_df[temp_index]=temp_df[temp_index].str.strip()\n",
    "temp_df[temp_index]"
   ]
  },
  {
   "cell_type": "code",
   "execution_count": 216,
   "metadata": {
    "scrolled": true
   },
   "outputs": [
    {
     "data": {
      "text/plain": [
       "'101224_S724E00.wav'"
      ]
     },
     "execution_count": 216,
     "metadata": {},
     "output_type": "execute_result"
    }
   ],
   "source": [
    "temp_df[temp_index][0]"
   ]
  },
  {
   "cell_type": "code",
   "execution_count": 217,
   "metadata": {
    "scrolled": true
   },
   "outputs": [
    {
     "data": {
      "text/html": [
       "<div>\n",
       "<style scoped>\n",
       "    .dataframe tbody tr th:only-of-type {\n",
       "        vertical-align: middle;\n",
       "    }\n",
       "\n",
       "    .dataframe tbody tr th {\n",
       "        vertical-align: top;\n",
       "    }\n",
       "\n",
       "    .dataframe thead th {\n",
       "        text-align: right;\n",
       "    }\n",
       "</style>\n",
       "<table border=\"1\" class=\"dataframe\">\n",
       "  <thead>\n",
       "    <tr style=\"text-align: right;\">\n",
       "      <th></th>\n",
       "      <th>음성파일</th>\n",
       "      <th>쓰기</th>\n",
       "      <th>시스템 인식</th>\n",
       "    </tr>\n",
       "  </thead>\n",
       "  <tbody>\n",
       "    <tr>\n",
       "      <th>0</th>\n",
       "      <td>101224_S724E00.wav</td>\n",
       "      <td>1</td>\n",
       "      <td>네</td>\n",
       "    </tr>\n",
       "    <tr>\n",
       "      <th>1</th>\n",
       "      <td>140306_S725E00.wav</td>\n",
       "      <td>1</td>\n",
       "      <td>네</td>\n",
       "    </tr>\n",
       "    <tr>\n",
       "      <th>2</th>\n",
       "      <td>140307_S726E00.wav</td>\n",
       "      <td>1</td>\n",
       "      <td>네</td>\n",
       "    </tr>\n",
       "    <tr>\n",
       "      <th>3</th>\n",
       "      <td>140309_S727E00.wav</td>\n",
       "      <td>1</td>\n",
       "      <td>오후</td>\n",
       "    </tr>\n",
       "    <tr>\n",
       "      <th>4</th>\n",
       "      <td>140310_S728E00.wav</td>\n",
       "      <td>1</td>\n",
       "      <td>예</td>\n",
       "    </tr>\n",
       "  </tbody>\n",
       "</table>\n",
       "</div>"
      ],
      "text/plain": [
       "                 음성파일  쓰기 시스템 인식\n",
       "0  101224_S724E00.wav   1      네\n",
       "1  140306_S725E00.wav   1      네\n",
       "2  140307_S726E00.wav   1      네\n",
       "3  140309_S727E00.wav   1     오후\n",
       "4  140310_S728E00.wav   1      예"
      ]
     },
     "execution_count": 217,
     "metadata": {},
     "output_type": "execute_result"
    }
   ],
   "source": [
    "temp_df.head()"
   ]
  },
  {
   "cell_type": "code",
   "execution_count": 218,
   "metadata": {
    "scrolled": false
   },
   "outputs": [
    {
     "name": "stderr",
     "output_type": "stream",
     "text": [
      "c:\\python36\\lib\\site-packages\\pandas\\core\\ops\\array_ops.py:253: FutureWarning: elementwise comparison failed; returning scalar instead, but in the future will perform elementwise comparison\n",
      "  res_values = method(rvalues)\n"
     ]
    },
    {
     "name": "stdout",
     "output_type": "stream",
     "text": [
      "쓰레기값 없을때\n",
      "하기 전:  1081\n",
      "done\n",
      "하고난 후:  1\n"
     ]
    }
   ],
   "source": [
    "new_list=[]\n",
    "i=0\n",
    "if len(temp_df[temp_index][0]) > 18:\n",
    "    for i in range(len(temp_df)):\n",
    "        new_list.append(temp_df[temp_index][i][len(temp_df[temp_index][i])-18:len(temp_df[temp_index][i])])     \n",
    "    \n",
    "    temp_df['new']=new_list\n",
    "    new_df=temp_df[(temp_df[temp_df.columns[1]]==1) | (temp_df[temp_df.columns[1]]=='1')]\n",
    "\n",
    "    #기본 columns=0\n",
    "    #음성파일에 쓰레기값있으면 columns=3\n",
    "    temp = new_df[new_df.columns[3]].tolist()\n",
    "\n",
    "    #삭제 시작\n",
    "    print (\"쓰레기값 있을때\")\n",
    "    print(\"하기 전: \", len(os.listdir(audio_dir)))\n",
    "    for i in range(len(temp)):\n",
    "        os.remove(audio_dir+os.sep+temp[i])\n",
    "    print(\"done\")\n",
    "\n",
    "    \n",
    "else:    \n",
    "    new_df=temp_df[(temp_df[temp_df.columns[1]]==1) | (temp_df[temp_df.columns[1]]=='1')]\n",
    "\n",
    "    #기본 columns=0\n",
    "    #음성파일에 쓰레기값있으면 columns=3\n",
    "    temp = new_df[new_df.columns[0]].tolist()\n",
    "\n",
    "    #삭제 시작\n",
    "    print (\"쓰레기값 없을때\")\n",
    "    print(\"하기 전: \", len(os.listdir(audio_dir)))\n",
    "    for i in range(len(temp)):\n",
    "        os.remove(audio_dir+os.sep+temp[i])\n",
    "    print(\"done\")\n",
    "\n",
    "print(\"하고난 후: \",len(os.listdir(audio_dir)))\n",
    "os.system(\"pause\")"
   ]
  }
 ],
 "metadata": {
  "kernelspec": {
   "display_name": "Python 3",
   "language": "python",
   "name": "python3"
  },
  "language_info": {
   "codemirror_mode": {
    "name": "ipython",
    "version": 3
   },
   "file_extension": ".py",
   "mimetype": "text/x-python",
   "name": "python",
   "nbconvert_exporter": "python",
   "pygments_lexer": "ipython3",
   "version": "3.6.8"
  }
 },
 "nbformat": 4,
 "nbformat_minor": 4
}
