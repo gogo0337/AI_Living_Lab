{
 "cells": [
  {
   "cell_type": "code",
   "execution_count": null,
   "metadata": {},
   "outputs": [],
   "source": [
    "import os\n",
    "import pandas as pd\n",
    "import glob\n",
    "from filecmp\n",
    "\n",
    "audio_dir = \"C:/Users/fyj/Desktop/test/test\" #오디오 리스트의 경로\n",
    "file_path = \"C:/Users/fyj/Desktop/test\"\n",
    "csv_path = open(\"C:/Users/fyj/Desktop/test/input.csv\") #입력할엑셀파일 (.csv로 저장 후 사용)\n",
    "\n",
    "file_list = glob.glob(file_path+os.sep+\"*\")\n",
    "file_name = [file for file in file_list if file.endswith(\".csv\")]\n",
    "df=pd.read_csv(file_name[0], encoding='cp949')\n",
    "temp_df=df[[\"음성파일\", \"전사\", \"시스템인식\"]]\n",
    "new_df=temp_df[(temp_df[\"전사\"]==\"1\")]\n",
    "print (\"총 개수: \",len(df),\" / 지우는 개수 : \",len(new_df), \"결과물 개수 : \", len(df)-len(new_df))\n",
    "temp = new_df[\"음성파일\"].tolist()\n",
    "\n",
    "print(\"하기 전: \", len(os.listdir(audio_dir)))\n",
    "for i in range(len(temp)):\n",
    "    os.remove(audio_dir+os.sep+temp[i])\n",
    "print(\"done\")\n",
    "print(\"하고난 후: \",len(os.listdir(audio_dir)))"
   ]
  }
 ],
 "metadata": {
  "kernelspec": {
   "display_name": "Python 3",
   "language": "python",
   "name": "python3"
  },
  "language_info": {
   "codemirror_mode": {
    "name": "ipython",
    "version": 3
   },
   "file_extension": ".py",
   "mimetype": "text/x-python",
   "name": "python",
   "nbconvert_exporter": "python",
   "pygments_lexer": "ipython3",
   "version": "3.6.8"
  }
 },
 "nbformat": 4,
 "nbformat_minor": 4
}
