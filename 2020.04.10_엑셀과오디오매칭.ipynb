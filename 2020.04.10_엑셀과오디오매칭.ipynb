{
 "cells": [
  {
   "cell_type": "code",
   "execution_count": 235,
   "metadata": {},
   "outputs": [
    {
     "data": {
      "text/plain": [
       "[]"
      ]
     },
     "execution_count": 235,
     "metadata": {},
     "output_type": "execute_result"
    }
   ],
   "source": [
    "import os\n",
    "import pandas as pd\n",
    "import glob\n",
    "\n",
    "dir_path=os.path.expanduser('~')\n",
    "file_path = dir_path+os.sep+\"Desktop\"+os.sep+\"test\"\n",
    "audio_dir = file_path+os.sep+\"audio\"\n",
    "file_list = glob.glob(file_path+os.sep+\"*\")\n",
    "file_name = [file for file in file_list if file.endswith(\".csv\")]\n",
    "file_name"
   ]
  },
  {
   "cell_type": "code",
   "execution_count": 231,
   "metadata": {
    "scrolled": true
   },
   "outputs": [
    {
     "data": {
      "text/html": [
       "<div>\n",
       "<style scoped>\n",
       "    .dataframe tbody tr th:only-of-type {\n",
       "        vertical-align: middle;\n",
       "    }\n",
       "\n",
       "    .dataframe tbody tr th {\n",
       "        vertical-align: top;\n",
       "    }\n",
       "\n",
       "    .dataframe thead th {\n",
       "        text-align: right;\n",
       "    }\n",
       "</style>\n",
       "<table border=\"1\" class=\"dataframe\">\n",
       "  <thead>\n",
       "    <tr style=\"text-align: right;\">\n",
       "      <th></th>\n",
       "      <th>Unnamed: 0</th>\n",
       "      <th>no.</th>\n",
       "      <th>음성파일</th>\n",
       "      <th>원본</th>\n",
       "      <th>인식결과</th>\n",
       "    </tr>\n",
       "  </thead>\n",
       "  <tbody>\n",
       "    <tr>\n",
       "      <th>0</th>\n",
       "      <td>NaN</td>\n",
       "      <td>1</td>\n",
       "      <td>pcm=104140_S001E00.wav</td>\n",
       "      <td>1</td>\n",
       "      <td>네</td>\n",
       "    </tr>\n",
       "    <tr>\n",
       "      <th>1</th>\n",
       "      <td>NaN</td>\n",
       "      <td>2</td>\n",
       "      <td>pcm=104606_S002E00.wav</td>\n",
       "      <td>1</td>\n",
       "      <td>네</td>\n",
       "    </tr>\n",
       "    <tr>\n",
       "      <th>2</th>\n",
       "      <td>NaN</td>\n",
       "      <td>3</td>\n",
       "      <td>pcm=115008_S003E00.wav</td>\n",
       "      <td>1</td>\n",
       "      <td>아니요</td>\n",
       "    </tr>\n",
       "    <tr>\n",
       "      <th>3</th>\n",
       "      <td>NaN</td>\n",
       "      <td>4</td>\n",
       "      <td>pcm=115011_S004E00.wav</td>\n",
       "      <td>1</td>\n",
       "      <td>네</td>\n",
       "    </tr>\n",
       "    <tr>\n",
       "      <th>4</th>\n",
       "      <td>NaN</td>\n",
       "      <td>5</td>\n",
       "      <td>pcm=115015_S005E00.wav</td>\n",
       "      <td>1</td>\n",
       "      <td>아니요</td>\n",
       "    </tr>\n",
       "  </tbody>\n",
       "</table>\n",
       "</div>"
      ],
      "text/plain": [
       "   Unnamed: 0  no.                     음성파일 원본   인식결과\n",
       "0         NaN    1   pcm=104140_S001E00.wav  1     네 \n",
       "1         NaN    2   pcm=104606_S002E00.wav  1     네 \n",
       "2         NaN    3   pcm=115008_S003E00.wav  1   아니요 \n",
       "3         NaN    4   pcm=115011_S004E00.wav  1     네 \n",
       "4         NaN    5   pcm=115015_S005E00.wav  1   아니요 "
      ]
     },
     "execution_count": 231,
     "metadata": {},
     "output_type": "execute_result"
    }
   ],
   "source": [
    "df=pd.read_csv(file_name[0], encoding='cp949')\n",
    "df.head()"
   ]
  },
  {
   "cell_type": "code",
   "execution_count": 232,
   "metadata": {
    "scrolled": true
   },
   "outputs": [
    {
     "data": {
      "text/html": [
       "<div>\n",
       "<style scoped>\n",
       "    .dataframe tbody tr th:only-of-type {\n",
       "        vertical-align: middle;\n",
       "    }\n",
       "\n",
       "    .dataframe tbody tr th {\n",
       "        vertical-align: top;\n",
       "    }\n",
       "\n",
       "    .dataframe thead th {\n",
       "        text-align: right;\n",
       "    }\n",
       "</style>\n",
       "<table border=\"1\" class=\"dataframe\">\n",
       "  <thead>\n",
       "    <tr style=\"text-align: right;\">\n",
       "      <th></th>\n",
       "      <th>음성파일</th>\n",
       "      <th>원본</th>\n",
       "      <th>인식결과</th>\n",
       "    </tr>\n",
       "  </thead>\n",
       "  <tbody>\n",
       "    <tr>\n",
       "      <th>0</th>\n",
       "      <td>pcm=104140_S001E00.wav</td>\n",
       "      <td>1</td>\n",
       "      <td>네</td>\n",
       "    </tr>\n",
       "    <tr>\n",
       "      <th>1</th>\n",
       "      <td>pcm=104606_S002E00.wav</td>\n",
       "      <td>1</td>\n",
       "      <td>네</td>\n",
       "    </tr>\n",
       "    <tr>\n",
       "      <th>2</th>\n",
       "      <td>pcm=115008_S003E00.wav</td>\n",
       "      <td>1</td>\n",
       "      <td>아니요</td>\n",
       "    </tr>\n",
       "    <tr>\n",
       "      <th>3</th>\n",
       "      <td>pcm=115011_S004E00.wav</td>\n",
       "      <td>1</td>\n",
       "      <td>네</td>\n",
       "    </tr>\n",
       "    <tr>\n",
       "      <th>4</th>\n",
       "      <td>pcm=115015_S005E00.wav</td>\n",
       "      <td>1</td>\n",
       "      <td>아니요</td>\n",
       "    </tr>\n",
       "    <tr>\n",
       "      <th>...</th>\n",
       "      <td>...</td>\n",
       "      <td>...</td>\n",
       "      <td>...</td>\n",
       "    </tr>\n",
       "    <tr>\n",
       "      <th>1195</th>\n",
       "      <td>pcm=162037_S280E00.wav</td>\n",
       "      <td>1</td>\n",
       "      <td>아니요</td>\n",
       "    </tr>\n",
       "    <tr>\n",
       "      <th>1196</th>\n",
       "      <td>pcm=162039_S281E00.wav</td>\n",
       "      <td>1</td>\n",
       "      <td>네</td>\n",
       "    </tr>\n",
       "    <tr>\n",
       "      <th>1197</th>\n",
       "      <td>pcm=162043_S282E00.wav</td>\n",
       "      <td>1</td>\n",
       "      <td>아니요</td>\n",
       "    </tr>\n",
       "    <tr>\n",
       "      <th>1198</th>\n",
       "      <td>pcm=162047_S283E00.wav</td>\n",
       "      <td>1</td>\n",
       "      <td>아니요</td>\n",
       "    </tr>\n",
       "    <tr>\n",
       "      <th>1199</th>\n",
       "      <td>pcm=162050_S284E00.wav</td>\n",
       "      <td>아니요</td>\n",
       "      <td>아니요</td>\n",
       "    </tr>\n",
       "  </tbody>\n",
       "</table>\n",
       "<p>1200 rows × 3 columns</p>\n",
       "</div>"
      ],
      "text/plain": [
       "                         음성파일   원본   인식결과\n",
       "0      pcm=104140_S001E00.wav    1     네 \n",
       "1      pcm=104606_S002E00.wav    1     네 \n",
       "2      pcm=115008_S003E00.wav    1   아니요 \n",
       "3      pcm=115011_S004E00.wav    1     네 \n",
       "4      pcm=115015_S005E00.wav    1   아니요 \n",
       "...                       ...  ...    ...\n",
       "1195   pcm=162037_S280E00.wav    1   아니요 \n",
       "1196   pcm=162039_S281E00.wav    1     네 \n",
       "1197   pcm=162043_S282E00.wav    1   아니요 \n",
       "1198   pcm=162047_S283E00.wav    1   아니요 \n",
       "1199   pcm=162050_S284E00.wav  아니요   아니요 \n",
       "\n",
       "[1200 rows x 3 columns]"
      ]
     },
     "execution_count": 232,
     "metadata": {},
     "output_type": "execute_result"
    }
   ],
   "source": [
    "temp_df=df[[df.columns[len(df.columns)-3], df.columns[len(df.columns)-2], df.columns[len(df.columns)-1]]]\n",
    "temp_df"
   ]
  },
  {
   "cell_type": "code",
   "execution_count": 233,
   "metadata": {},
   "outputs": [
    {
     "data": {
      "text/plain": [
       "'음성파일'"
      ]
     },
     "execution_count": 233,
     "metadata": {},
     "output_type": "execute_result"
    }
   ],
   "source": [
    "temp_index = temp_df.columns[0]\n",
    "temp_index"
   ]
  },
  {
   "cell_type": "code",
   "execution_count": 234,
   "metadata": {
    "scrolled": false
   },
   "outputs": [
    {
     "name": "stdout",
     "output_type": "stream",
     "text": [
      "쓰레기값 있을때\n",
      "하기 전:  1200\n",
      "done\n",
      "하고난 후:  3\n"
     ]
    },
    {
     "name": "stderr",
     "output_type": "stream",
     "text": [
      "c:\\python36\\lib\\site-packages\\ipykernel_launcher.py:7: SettingWithCopyWarning: \n",
      "A value is trying to be set on a copy of a slice from a DataFrame.\n",
      "Try using .loc[row_indexer,col_indexer] = value instead\n",
      "\n",
      "See the caveats in the documentation: https://pandas.pydata.org/pandas-docs/stable/user_guide/indexing.html#returning-a-view-versus-a-copy\n",
      "  import sys\n"
     ]
    }
   ],
   "source": [
    "new_list=[]\n",
    "i=0\n",
    "if len(temp_df[temp_index][0]) > 18:\n",
    "    for i in range(len(temp_df)):\n",
    "        new_list.append(temp_df[temp_index][i][len(temp_df[temp_index][i])-18:len(temp_df[temp_index][i])])     \n",
    "    \n",
    "    temp_df['new']=new_list\n",
    "    new_df=temp_df[(temp_df[temp_df.columns[1]]==\"1\")]\n",
    "\n",
    "    #기본 columns=0\n",
    "    #음성파일에 쓰레기값있으면 columns=3\n",
    "    temp = new_df[new_df.columns[3]].tolist()\n",
    "\n",
    "    #삭제 시작\n",
    "    print (\"쓰레기값 있을때\")\n",
    "    print(\"하기 전: \", len(os.listdir(audio_dir)))\n",
    "    for i in range(len(temp)):\n",
    "        os.remove(audio_dir+os.sep+temp[i])\n",
    "    print(\"done\")\n",
    "\n",
    "    \n",
    "else:    \n",
    "    new_df=temp_df[(temp_df[temp_df.columns[1]]==\"1\")]\n",
    "\n",
    "    #기본 columns=0\n",
    "    #음성파일에 쓰레기값있으면 columns=3\n",
    "    temp = new_df[new_df.columns[0]].tolist()\n",
    "\n",
    "    #삭제 시작\n",
    "    print (\"쓰레기값 없을때\")\n",
    "    print(\"하기 전: \", len(os.listdir(audio_dir)))\n",
    "    for i in range(len(temp)):\n",
    "        os.remove(audio_dir+os.sep+temp[i])\n",
    "    print(\"done\")\n",
    "\n",
    "print(\"하고난 후: \",len(os.listdir(audio_dir)))\n"
   ]
  }
 ],
 "metadata": {
  "kernelspec": {
   "display_name": "Python 3",
   "language": "python",
   "name": "python3"
  },
  "language_info": {
   "codemirror_mode": {
    "name": "ipython",
    "version": 3
   },
   "file_extension": ".py",
   "mimetype": "text/x-python",
   "name": "python",
   "nbconvert_exporter": "python",
   "pygments_lexer": "ipython3",
   "version": "3.6.8"
  }
 },
 "nbformat": 4,
 "nbformat_minor": 4
}
